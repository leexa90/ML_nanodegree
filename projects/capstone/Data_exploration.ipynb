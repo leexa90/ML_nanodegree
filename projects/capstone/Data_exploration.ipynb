{
 "cells": [
  {
   "cell_type": "code",
   "execution_count": 11,
   "metadata": {
    "collapsed": true
   },
   "outputs": [],
   "source": [
    "import numpy as np\n",
    "import matplotlib.pyplot as plt"
   ]
  },
  {
   "cell_type": "code",
   "execution_count": null,
   "metadata": {
    "collapsed": true
   },
   "outputs": [],
   "source": [
    "'''\n",
    "Here are the preprocessed data, after running cetain software to preprocess data.\n",
    "\n",
    "You will see numerous 1D features and a 2D feature. They will all be incoporated into the model\n",
    "'''"
   ]
  },
  {
   "cell_type": "code",
   "execution_count": 6,
   "metadata": {
    "collapsed": false
   },
   "outputs": [
    {
     "data": {
      "text/plain": [
       "['4oji_a', '5jte_ax', '1kh6_a', '4ue5_a', '5m0h_a']"
      ]
     },
     "execution_count": 6,
     "metadata": {},
     "output_type": "execute_result"
    }
   ],
   "source": [
    "'''\n",
    "Data is stored in four .npy files. \n",
    "'''\n",
    "data1 = np.load('data_lim5000_nan.npy.zip')['data_lim5000_nan.npy'].item()\n",
    "data2 = np.load('data_lim5000_ss.npy.zip')['data_lim5000_ss'].item()\n",
    "data3 = np.load('data_lim5000_extra.npy').item()\n",
    "data4 = np.load('data_lim5000_MSA.npy').item()\n",
    "data1.keys()[0:5]"
   ]
  },
  {
   "cell_type": "code",
   "execution_count": 25,
   "metadata": {
    "collapsed": false
   },
   "outputs": [
    {
     "name": "stdout",
     "output_type": "stream",
     "text": [
      "first entry is resolved experimental sequence CGCCXAACACUGCCAXXGCCGGUCCCAAGCCCGGAUAAAAGUGGAGGGGGCGG\n",
      "first entry is actual sequence CGCCUAACACUGCCAAUGCCGGUCCCAAGCCCGGAUAAAAGUGGAGGGGGCGG\n"
     ]
    },
    {
     "name": "stderr",
     "output_type": "stream",
     "text": [
      "/usr/local/lib/python2.7/dist-packages/ipykernel/__main__.py:5: RuntimeWarning: invalid value encountered in less\n",
      "/usr/local/lib/python2.7/dist-packages/ipykernel/__main__.py:5: RuntimeWarning: invalid value encountered in less_equal\n",
      "/usr/local/lib/python2.7/dist-packages/ipykernel/__main__.py:5: RuntimeWarning: invalid value encountered in greater_equal\n",
      "/usr/local/lib/python2.7/dist-packages/ipykernel/__main__.py:5: RuntimeWarning: invalid value encountered in greater\n"
     ]
    },
    {
     "data": {
      "image/png": "[encoded data removed]",
      "text/plain": [
       "<matplotlib.figure.Figure at 0x7f02137c2150>"
      ]
     },
     "metadata": {},
     "output_type": "display_data"
    }
   ],
   "source": [
    "i= '4oji_a'\n",
    "print ('first entry is resolved experimental sequence %s' %data1[i][0]) #some residues are missing\n",
    "print ('first entry is actual sequence %s' %data1[i][1]) #this will be used for prediction\n",
    "#print ('third entry is distance matrix %s' %data1[i][2])\n",
    "a,b,c = (data1[i][2] < 8)*1,(data1[i][2] <= 15) & (data1[i][2] >= 8)*1,(data1[i][2] > 15)*1\n",
    "temp_resi_map = np.stack((a,b,c),axis=2)\n",
    "plt.imshow(temp_resi_map.astype(np.float32))\n",
    "plt.title('I WiLL PREDICT THIS\\ndistance matrix based on three categories\\nred-near,green-medium,blue-far')\n",
    "plt.show()\n",
    "  "
   ]
  },
  {
   "cell_type": "code",
   "execution_count": 39,
   "metadata": {
    "collapsed": false
   },
   "outputs": [
    {
     "name": "stdout",
     "output_type": "stream",
     "text": [
      "Secondary structure in 1D form : [ 1.  1.  1.  1.  1.  0.  0.  1.  1.  1.  1.  0.  0.  0.  0.  0.  0.  0.\n",
      "  1.  1.  1.  1.  0.  0.  0.  0.  0.  0.  0.  0. -1. -1. -1. -1.  0.  0.\n",
      "  0.  0.  0. -1. -1. -1. -1.  0.  0.  0.  0. -1. -1. -1. -1. -1.  0.]\n"
     ]
    },
    {
     "data": {
      "image/png": "[encoded data removed]",
      "text/plain": [
       "<matplotlib.figure.Figure at 0x7f0213716a50>"
      ]
     },
     "metadata": {},
     "output_type": "display_data"
    }
   ],
   "source": [
    "print ( 'Secondary structure in 1D form : %s' %data2[i][1])\n",
    "plt.imshow(data2[i][0])\n",
    "plt.title('Secondary structure 2D:\\n--A (Length * Length) feature')\n",
    "plt.show()\n"
   ]
  },
  {
   "cell_type": "code",
   "execution_count": 31,
   "metadata": {
    "collapsed": false
   },
   "outputs": [
    {
     "name": "stdout",
     "output_type": "stream",
     "text": [
      "Min Free energy plot : [  0.00000000e+00   9.69600000e-01   1.93680000e+00   2.93670000e+00\n",
      "   3.93640000e+00   4.91610000e+00   4.91610000e+00   4.91610000e+00\n",
      "   5.87790000e+00   6.81310000e+00   7.80980000e+00   8.79140000e+00\n",
      "   8.83710000e+00   8.89960000e+00   8.91670000e+00   8.94320000e+00\n",
      "   9.19060000e+00   9.50870000e+00   9.56080000e+00   1.05570000e+01\n",
      "   1.15440000e+01   1.25420000e+01   1.35390000e+01   1.36000000e+01\n",
      "   1.38590000e+01   1.38650000e+01   1.38650000e+01   1.38640000e+01\n",
      "   1.35450000e+01   1.35000000e+01   1.25220000e+01   1.15520000e+01\n",
      "   1.05520000e+01   9.56420000e+00   9.29170000e+00   8.98000000e+00\n",
      "   8.93350000e+00   8.93320000e+00   8.93230000e+00   8.01030000e+00\n",
      "   7.02870000e+00   6.03220000e+00   5.03580000e+00   4.97380000e+00\n",
      "   4.96180000e+00   4.88650000e+00   4.82310000e+00   3.85780000e+00\n",
      "   2.89320000e+00   1.90830000e+00   9.41020000e-01   3.43080000e-04\n",
      "  -4.49840000e-16]\n",
      "Base pair probability : [  0.00000000e+00   9.69600000e-01   1.93680000e+00   2.93670000e+00\n",
      "   3.93640000e+00   4.91610000e+00   4.91610000e+00   4.91610000e+00\n",
      "   5.87790000e+00   6.81310000e+00   7.80980000e+00   8.79140000e+00\n",
      "   8.83710000e+00   8.89960000e+00   8.91670000e+00   8.94320000e+00\n",
      "   9.19060000e+00   9.50870000e+00   9.56080000e+00   1.05570000e+01\n",
      "   1.15440000e+01   1.25420000e+01   1.35390000e+01   1.36000000e+01\n",
      "   1.38590000e+01   1.38650000e+01   1.38650000e+01   1.38640000e+01\n",
      "   1.35450000e+01   1.35000000e+01   1.25220000e+01   1.15520000e+01\n",
      "   1.05520000e+01   9.56420000e+00   9.29170000e+00   8.98000000e+00\n",
      "   8.93350000e+00   8.93320000e+00   8.93230000e+00   8.01030000e+00\n",
      "   7.02870000e+00   6.03220000e+00   5.03580000e+00   4.97380000e+00\n",
      "   4.96180000e+00   4.88650000e+00   4.82310000e+00   3.85780000e+00\n",
      "   2.89320000e+00   1.90830000e+00   9.41020000e-01   3.43080000e-04\n",
      "  -4.49840000e-16]\n",
      "Positional entropy : [  0.00000000e+00   9.69600000e-01   1.93680000e+00   2.93670000e+00\n",
      "   3.93640000e+00   4.91610000e+00   4.91610000e+00   4.91610000e+00\n",
      "   5.87790000e+00   6.81310000e+00   7.80980000e+00   8.79140000e+00\n",
      "   8.83710000e+00   8.89960000e+00   8.91670000e+00   8.94320000e+00\n",
      "   9.19060000e+00   9.50870000e+00   9.56080000e+00   1.05570000e+01\n",
      "   1.15440000e+01   1.25420000e+01   1.35390000e+01   1.36000000e+01\n",
      "   1.38590000e+01   1.38650000e+01   1.38650000e+01   1.38640000e+01\n",
      "   1.35450000e+01   1.35000000e+01   1.25220000e+01   1.15520000e+01\n",
      "   1.05520000e+01   9.56420000e+00   9.29170000e+00   8.98000000e+00\n",
      "   8.93350000e+00   8.93320000e+00   8.93230000e+00   8.01030000e+00\n",
      "   7.02870000e+00   6.03220000e+00   5.03580000e+00   4.97380000e+00\n",
      "   4.96180000e+00   4.88650000e+00   4.82310000e+00   3.85780000e+00\n",
      "   2.89320000e+00   1.90830000e+00   9.41020000e-01   3.43080000e-04\n",
      "  -4.49840000e-16]\n"
     ]
    }
   ],
   "source": [
    "print ( 'Min Free energy plot : %s' % data3[i][0])\n",
    "print ( 'Base pair probability : %s' % data3[i][0])\n",
    "print ( 'Positional entropy : %s' % data3[i][0])"
   ]
  },
  {
   "cell_type": "code",
   "execution_count": 38,
   "metadata": {
    "collapsed": false
   },
   "outputs": [
    {
     "name": "stdout",
     "output_type": "stream",
     "text": [
      "Original Sequence  : CGCCUAACACUGCCAAUGCCGGUCCCAAGCCCGGAUAAAAGUGGAGGGGGCGG\n",
      "Conserved Sequence : cccgUAAUGCgACXaGggCCGGUCcCAAGCCCGGXXXXXXXXXXXXXXXXXXX\n",
      "Probability of conservation Sequence : 889****99999984566****************XXXXXXXXXXXXXXXXXXX\n"
     ]
    }
   ],
   "source": [
    "print ('Original Sequence  : %s' %data4[i][0])\n",
    "print ('Conserved Sequence : %s' %data4[i][1]) #caps are highly conserved\n",
    "print ('Probability of conservation Sequence : %s' %data4[i][2]) # * is 10, X is 0"
   ]
  }
 ],
 "metadata": {
  "kernelspec": {
   "display_name": "Python 2",
   "language": "python",
   "name": "python2"
  },
  "language_info": {
   "codemirror_mode": {
    "name": "ipython",
    "version": 2
   },
   "file_extension": ".py",
   "mimetype": "text/x-python",
   "name": "python",
   "nbconvert_exporter": "python",
   "pygments_lexer": "ipython2",
   "version": "2.7.12"
  }
 },
 "nbformat": 4,
 "nbformat_minor": 2
}
